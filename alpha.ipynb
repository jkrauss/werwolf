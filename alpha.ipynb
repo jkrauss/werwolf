{
 "cells": [
  {
   "cell_type": "code",
   "execution_count": 1,
   "metadata": {},
   "outputs": [
    {
     "data": {
      "text/plain": [
       "True"
      ]
     },
     "execution_count": 1,
     "metadata": {},
     "output_type": "execute_result"
    }
   ],
   "source": [
    "from dotenv import load_dotenv, find_dotenv\n",
    "\n",
    "load_dotenv(find_dotenv())"
   ]
  },
  {
   "cell_type": "code",
   "execution_count": 2,
   "metadata": {},
   "outputs": [],
   "source": [
    "# preprocess docs. Chunk playbook.md into individual md-files. Chunk right before ##-headings. Name the files after the heading.\n",
    "import re\n",
    "import os\n",
    "\n",
    "def chunk_md_file(file_path):\n",
    "    with open(file_path) as f:\n",
    "        content = f.read()\n",
    "    chunks = re.split(r'(?m)^## ', content)\n",
    "    for chunk in chunks[1:]:\n",
    "        heading = chunk.split('\\n')[0]\n",
    "        with open(f'./knowledge/{heading}.md', 'w') as f:\n",
    "            f.write(f'## {chunk}')\n",
    "\n",
    "\n",
    "def chunk_md_files():\n",
    "    for file in os.listdir('./docs'):\n",
    "        if file.endswith('.md'):\n",
    "            chunk_md_file(f'./docs/{file}')\n",
    "\n",
    "chunk_md_files()"
   ]
  },
  {
   "cell_type": "code",
   "execution_count": 3,
   "metadata": {},
   "outputs": [
    {
     "data": {
      "text/plain": [
       "True"
      ]
     },
     "execution_count": 3,
     "metadata": {},
     "output_type": "execute_result"
    }
   ],
   "source": [
    "# read the content of the knowledge folder and create a list of dictionaries with the following structure:\n",
    "# {'title': '...', 'content': '...'}\n",
    "# Use the title of the md-file as the title and the content of the md-file as the content\n",
    "def read_knowledge_folder():\n",
    "    knowledge = []\n",
    "    for file in os.listdir('./knowledge'):\n",
    "        if file.endswith('.md'):\n",
    "            with open(f'./knowledge/{file}') as f:\n",
    "                content = f.read()\n",
    "            knowledge.append({'title': file[:-3], 'content': content})\n",
    "    return knowledge\n",
    "\n",
    "knowledge = read_knowledge_folder()\n",
    "len(knowledge)>0"
   ]
  },
  {
   "cell_type": "markdown",
   "metadata": {},
   "source": [
    "To build our knowledge base we need _two things_:\n",
    "\n",
    "1. Embeddings, for this we will use `VoyageEmbeddings` using Voyage AI's embedding models, which do need an API-Key\n",
    "2. A vector database, where we store our embeddings and query them. We use Pinecone, which also needs an API-Key.\n"
   ]
  },
  {
   "cell_type": "code",
   "execution_count": 4,
   "metadata": {},
   "outputs": [
    {
     "name": "stdout",
     "output_type": "stream",
     "text": [
      "batch size None\n"
     ]
    },
    {
     "data": {
      "text/plain": [
       "1024"
      ]
     },
     "execution_count": 4,
     "metadata": {},
     "output_type": "execute_result"
    }
   ],
   "source": [
    "import os\n",
    "from getpass import getpass\n",
    "from langchain_voyageai import VoyageAIEmbeddings\n",
    "from pinecone import Pinecone\n",
    "from pinecone import ServerlessSpec\n",
    "\n",
    "# initialize connection to pinecone (get API key at app.pinecone.io)\n",
    "api_key = os.getenv(\"PINECONE_API_KEY\") or getpass(\"Pinecone API key: \")\n",
    "voyage_key = os.getenv(\"VOYAGE_API_KEY\") or getpass(\"Voyage API key: \")\n",
    "\n",
    "embed = VoyageAIEmbeddings(\n",
    "    voyage_api_key=voyage_key, model=\"voyage-large-2-instruct\"\n",
    ")\n",
    "\n",
    "# configure client\n",
    "pc = Pinecone(api_key=api_key)\n",
    "\n",
    "spec = ServerlessSpec(\n",
    "    cloud=\"aws\", region=\"us-east-1\"\n",
    ")\n",
    "\n",
    "vec = embed.embed_documents([\"ello\"])\n",
    "len(vec[0])"
   ]
  },
  {
   "cell_type": "code",
   "execution_count": 5,
   "metadata": {},
   "outputs": [
    {
     "data": {
      "text/plain": [
       "{'dimension': 1024,\n",
       " 'index_fullness': 0.0,\n",
       " 'namespaces': {'': {'vector_count': 8}},\n",
       " 'total_vector_count': 8}"
      ]
     },
     "execution_count": 5,
     "metadata": {},
     "output_type": "execute_result"
    }
   ],
   "source": [
    "import time\n",
    "\n",
    "index_name = \"werewolf-index\"\n",
    "\n",
    "# check if index already exists (it shouldn't if this is first time)\n",
    "if index_name not in pc.list_indexes().names():\n",
    "    # if does not exist, create index\n",
    "    pc.create_index(\n",
    "        index_name,\n",
    "        dimension=len(vec[0]),  # dimensionality of voyage model\n",
    "#        metric='dotproduct',\n",
    "        metric='cosine',\n",
    "        spec=spec\n",
    "    )\n",
    "    # wait for index to be initialized\n",
    "    while not pc.describe_index(index_name).status['ready']:\n",
    "        time.sleep(1)\n",
    "\n",
    "# connect to index\n",
    "index = pc.Index(index_name)\n",
    "time.sleep(1)\n",
    "# view index stats\n",
    "index.describe_index_stats()\n"
   ]
  },
  {
   "cell_type": "code",
   "execution_count": 6,
   "metadata": {},
   "outputs": [
    {
     "data": {
      "text/html": [
       "<div>\n",
       "<style scoped>\n",
       "    .dataframe tbody tr th:only-of-type {\n",
       "        vertical-align: middle;\n",
       "    }\n",
       "\n",
       "    .dataframe tbody tr th {\n",
       "        vertical-align: top;\n",
       "    }\n",
       "\n",
       "    .dataframe thead th {\n",
       "        text-align: right;\n",
       "    }\n",
       "</style>\n",
       "<table border=\"1\" class=\"dataframe\">\n",
       "  <thead>\n",
       "    <tr style=\"text-align: right;\">\n",
       "      <th></th>\n",
       "      <th>title</th>\n",
       "      <th>content</th>\n",
       "    </tr>\n",
       "  </thead>\n",
       "  <tbody>\n",
       "    <tr>\n",
       "      <th>0</th>\n",
       "      <td>0. Preparation</td>\n",
       "      <td>## 0. Preparation\\n\\n#### Precondition\\nThe re...</td>\n",
       "    </tr>\n",
       "    <tr>\n",
       "      <th>1</th>\n",
       "      <td>3. Game end</td>\n",
       "      <td>## 3. Game end\\n\\n#### Precondition\\nA night i...</td>\n",
       "    </tr>\n",
       "    <tr>\n",
       "      <th>2</th>\n",
       "      <td>1. First Night</td>\n",
       "      <td>## 1. First Night\\n\\n#### Precondition\\nIt is ...</td>\n",
       "    </tr>\n",
       "    <tr>\n",
       "      <th>3</th>\n",
       "      <td>Rules::The Roles</td>\n",
       "      <td>## Rules::The Roles\\n- First things first: All...</td>\n",
       "    </tr>\n",
       "    <tr>\n",
       "      <th>4</th>\n",
       "      <td>Rules::Game Situation</td>\n",
       "      <td>## Rules::Game Situation\\nWe find ourselves in...</td>\n",
       "    </tr>\n",
       "    <tr>\n",
       "      <th>5</th>\n",
       "      <td>4. Day</td>\n",
       "      <td>## 4. Day\\n\\n#### Precondition\\nA night is ove...</td>\n",
       "    </tr>\n",
       "    <tr>\n",
       "      <th>6</th>\n",
       "      <td>Rules::Game Objective</td>\n",
       "      <td>## Rules::Game Objective\\n- For the villagers:...</td>\n",
       "    </tr>\n",
       "    <tr>\n",
       "      <th>7</th>\n",
       "      <td>2. Further Nights</td>\n",
       "      <td>## 2. Further Nights\\n\\n#### Precondition\\nAny...</td>\n",
       "    </tr>\n",
       "  </tbody>\n",
       "</table>\n",
       "</div>"
      ],
      "text/plain": [
       "                   title                                            content\n",
       "0         0. Preparation  ## 0. Preparation\\n\\n#### Precondition\\nThe re...\n",
       "1            3. Game end  ## 3. Game end\\n\\n#### Precondition\\nA night i...\n",
       "2         1. First Night  ## 1. First Night\\n\\n#### Precondition\\nIt is ...\n",
       "3       Rules::The Roles  ## Rules::The Roles\\n- First things first: All...\n",
       "4  Rules::Game Situation  ## Rules::Game Situation\\nWe find ourselves in...\n",
       "5                 4. Day  ## 4. Day\\n\\n#### Precondition\\nA night is ove...\n",
       "6  Rules::Game Objective  ## Rules::Game Objective\\n- For the villagers:...\n",
       "7      2. Further Nights  ## 2. Further Nights\\n\\n#### Precondition\\nAny..."
      ]
     },
     "execution_count": 6,
     "metadata": {},
     "output_type": "execute_result"
    }
   ],
   "source": [
    "import pandas as pd\n",
    "\n",
    "# create dataframe from knowledge list\n",
    "df = pd.DataFrame(knowledge)\n",
    "df"
   ]
  },
  {
   "cell_type": "code",
   "execution_count": 7,
   "metadata": {},
   "outputs": [
    {
     "data": {
      "text/plain": [
       "{'upserted_count': 8}"
      ]
     },
     "execution_count": 7,
     "metadata": {},
     "output_type": "execute_result"
    }
   ],
   "source": [
    "# embed content\n",
    "embeddings = embed.embed_documents(df.content.tolist())\n",
    "\n",
    "# add to Pinecone index\n",
    "index.upsert(vectors=zip(df.index.astype(str), embeddings, knowledge))"
   ]
  },
  {
   "cell_type": "code",
   "execution_count": 8,
   "metadata": {},
   "outputs": [],
   "source": [
    "from langchain.agents import tool\n",
    "\n",
    "@tool\n",
    "def knowledge_search(query: str) -> str:\n",
    "#    \"\"\"Use this tool to augment your query with local knowledge.\n",
    "    \"\"\"Provides Knowledge about the game 'Werewolf' based on the query.\n",
    "    \"\"\"\n",
    "    # create query vector\n",
    "    xq = embed.embed_query(query)\n",
    "    # perform search\n",
    "    out = index.query(vector=xq, top_k=2, include_metadata=True)\n",
    "    # reformat results into string\n",
    "    results_str = \"\\n\\n\".join(\n",
    "        [x['metadata']['content'] for x in out[\"matches\"]]\n",
    "    )\n",
    "    return results_str\n",
    "\n",
    "tools = [knowledge_search]"
   ]
  },
  {
   "cell_type": "code",
   "execution_count": 9,
   "metadata": {},
   "outputs": [
    {
     "name": "stdout",
     "output_type": "stream",
     "text": [
      "ChatPromptTemplate(input_variables=['agent_scratchpad', 'chat_history', 'input', 'tools'], messages=[HumanMessagePromptTemplate(prompt=PromptTemplate(input_variables=['agent_scratchpad', 'chat_history', 'input', 'tools'], template=\"\\nYou are a helpful assistant. Help the user answer any questions.\\n\\nYou have access to the following tools:\\n\\n{tools}\\n\\nIn order to use a tool, you can use <tool></tool> and <tool_input></tool_input> tags. You will then get back a response in the form <observation></observation>\\nFor example, if you have a tool called 'search' that could run a google search, in order to search for the weather in SF you would respond:\\n\\n<tool>search</tool><tool_input>weather in SF</tool_input>\\n<observation>64 degrees</observation>\\n\\nWhen you are done, respond with a final answer between <final_answer></final_answer>. For example:\\n\\n<final_answer>The weather in SF is 64 degrees</final_answer>\\n\\nBegin!\\n\\nPrevious Conversation:\\n{chat_history}\\n\\nQuestion: {input}\\n{agent_scratchpad}\\n\"))])\n"
     ]
    }
   ],
   "source": [
    "from langchain_core.prompts import ChatPromptTemplate\n",
    "\n",
    "template_text = \"\"\"\n",
    "Du bist Geschichtenerzähler und spielst mit einer Runde Kinder im Alter von 10-15 Jahren eine Runde des Spieles \"Werwolf\".\n",
    "Die Kinder reichen dir in jeder Runde einen Ausschnitt aus den Regeln, und bitten Dich, die nächste Aktion zu bestimmen.\n",
    "Bitte unterbreche Deine Erzählung jedesmal, wenn eines der Kinder eine Eingabe machen soll.\n",
    "Setze dann die Erzählung fort, wenn das Kind die Eingabe gemacht hat.\n",
    "\n",
    "Du hast Zugang zu folgenden Tools:\n",
    "\n",
    "{tools}\n",
    "\n",
    "Um ein Tool zu verwenden, kannst du die Tags <tool></tool> und <tool_input></tool_input> benutzen. \n",
    "   Du erhältst dann eine Antwort in der Form <observation></observation>.\n",
    "Wenn du zum Beispiel ein Tool namens 'search' hast, das eine Google-Suche durchführen kann, \n",
    "würdest du für die Suche nach dem Wetter in Frankfurt Folgendes eingeben:\n",
    "\n",
    "<tool>search</tool><tool_input>Wetter in Frankfurt</tool_input>\n",
    "<observation>18 Grad</observation>\n",
    "\n",
    "Wenn du fertig bist, antworte mit einer finalen Antwort zwischen <final_answer></final_answer>. Zum Beispiel:\n",
    "\n",
    "<final_answer>Das Wetter in Frankfurt beträgt 18 Grad</final_answer>\n",
    "\n",
    "Los gehts!\n",
    "\n",
    "Bisheriges Gesprächsprotokoll:\n",
    "{chat_history}\n",
    "\n",
    "Frage: {input}\n",
    "{agent_scratchpad}\"\"\"\n",
    "\n",
    "template_text = \"\"\"\n",
    "You are a helpful assistant. Help the user answer any questions.\n",
    "\n",
    "You have access to the following tools:\n",
    "\n",
    "{tools}\n",
    "\n",
    "In order to use a tool, you can use <tool></tool> and <tool_input></tool_input> tags. You will then get back a response in the form <observation></observation>\n",
    "For example, if you have a tool called 'search' that could run a google search, in order to search for the weather in SF you would respond:\n",
    "\n",
    "<tool>search</tool><tool_input>weather in SF</tool_input>\n",
    "<observation>64 degrees</observation>\n",
    "\n",
    "When you are done, respond with a final answer between <final_answer></final_answer>. For example:\n",
    "\n",
    "<final_answer>The weather in SF is 64 degrees</final_answer>\n",
    "\n",
    "Begin!\n",
    "\n",
    "Previous Conversation:\n",
    "{chat_history}\n",
    "\n",
    "Question: {input}\n",
    "{agent_scratchpad}\n",
    "\"\"\"\n",
    "\n",
    "prompt = ChatPromptTemplate.from_messages([\n",
    "  (\"human\", template_text),\n",
    "])\n",
    "\n",
    "from pprint import pp\n",
    "\n",
    "pp(prompt)"
   ]
  },
  {
   "cell_type": "code",
   "execution_count": 11,
   "metadata": {},
   "outputs": [],
   "source": [
    "from langchain_anthropic import ChatAnthropic\n",
    "\n",
    "anthropic_api_key = os.getenv(\"ANTHROPIC_API_KEY\") or getpass(\"Anthropic API key: \")\n",
    "\n",
    "# chat completion llm\n",
    "llm = ChatAnthropic(\n",
    "    anthropic_api_key=anthropic_api_key,\n",
    "    model_name=\"claude-3-opus-20240229\",  # change \"opus\" -> \"sonnet\" for speed\n",
    "    temperature=0.0\n",
    ")"
   ]
  },
  {
   "cell_type": "code",
   "execution_count": 12,
   "metadata": {},
   "outputs": [],
   "source": [
    "def convert_intermediate_steps(intermediate_steps):\n",
    "    log = \"\"\n",
    "    for action, observation in intermediate_steps:\n",
    "        log += (\n",
    "            f\"<tool>{action.tool}</tool><tool_input>{action.tool_input}\"\n",
    "            f\"</tool_input><observation>{observation}</observation>\"\n",
    "        )\n",
    "    return log\n",
    "\n",
    "\n",
    "def convert_tools(tools):\n",
    "    return \"\\n\".join([f\"{tool.name}: {tool.description}\" for tool in tools])\n",
    "\n",
    "\n"
   ]
  },
  {
   "cell_type": "code",
   "execution_count": 13,
   "metadata": {},
   "outputs": [],
   "source": [
    "from langchain.agents.output_parsers import XMLAgentOutputParser\n",
    "\n",
    "agent = (\n",
    "    {\n",
    "        \"input\": lambda x: x[\"input\"],\n",
    "        # without \"chat_history\", tool usage has no context of prev interactions\n",
    "        \"chat_history\": lambda x: x[\"chat_history\"],\n",
    "        \"agent_scratchpad\": lambda x: convert_intermediate_steps(\n",
    "            x[\"intermediate_steps\"]\n",
    "        ),\n",
    "    }\n",
    "    | prompt.partial(tools=convert_tools(tools))\n",
    "    | llm.bind(stop=[\"</tool_input>\", \"</final_answer>\"])\n",
    "    | XMLAgentOutputParser()\n",
    ")"
   ]
  },
  {
   "cell_type": "code",
   "execution_count": 14,
   "metadata": {},
   "outputs": [],
   "source": [
    "from langchain.agents import AgentExecutor\n",
    "\n",
    "agent_executor = AgentExecutor(\n",
    "    agent=agent, tools=tools, verbose=True\n",
    ")"
   ]
  },
  {
   "cell_type": "code",
   "execution_count": 15,
   "metadata": {},
   "outputs": [
    {
     "data": {
      "text/plain": [
       "[]"
      ]
     },
     "execution_count": 15,
     "metadata": {},
     "output_type": "execute_result"
    }
   ],
   "source": [
    "from langchain.chains.conversation.memory import ConversationBufferWindowMemory\n",
    "\n",
    "# conversational memory\n",
    "conversational_memory = ConversationBufferWindowMemory(\n",
    "    memory_key='chat_history',\n",
    "    k=15,\n",
    "    return_messages=True\n",
    ")\n",
    "\n",
    "conversational_memory.chat_memory.messages"
   ]
  },
  {
   "cell_type": "code",
   "execution_count": 16,
   "metadata": {},
   "outputs": [],
   "source": [
    "from langchain_core.messages.human import HumanMessage\n",
    "\n",
    "def memory2str(memory: ConversationBufferWindowMemory):\n",
    "    messages = memory.chat_memory.messages\n",
    "    memory_list = [\n",
    "        f\"Human: {mem.content}\" if isinstance(mem, HumanMessage) \\\n",
    "        else f\"AI: {mem.content}\" for mem in messages\n",
    "    ]\n",
    "    memory_str = \"\\n\".join(memory_list)\n",
    "    return memory_str"
   ]
  },
  {
   "cell_type": "code",
   "execution_count": 17,
   "metadata": {},
   "outputs": [],
   "source": [
    "def chat(text: str):\n",
    "    out = agent_executor.invoke({\n",
    "        \"input\": text,\n",
    "        \"chat_history\": memory2str(conversational_memory)\n",
    "    })\n",
    "    conversational_memory.chat_memory.add_user_message(text)\n",
    "    conversational_memory.chat_memory.add_ai_message(out[\"output\"])\n",
    "    return out[\"output\"]"
   ]
  },
  {
   "cell_type": "code",
   "execution_count": 18,
   "metadata": {},
   "outputs": [
    {
     "name": "stdout",
     "output_type": "stream",
     "text": [
      "\n",
      "\n",
      "\u001b[1m> Entering new AgentExecutor chain...\u001b[0m\n",
      "\u001b[32;1m\u001b[1;3mOkay, lass uns eine Runde Werwölfe spielen! Hier ist eine kurze Zusammenfassung der Regeln:\n",
      "\n",
      "<tool>knowledge_search</tool>\n",
      "<tool_input>Wie spielt man das Spiel Werwölfe?\u001b[0m\u001b[36;1m\u001b[1;3m## Rules::Game Situation\n",
      "We find ourselves in the picturesque village of Düsterwald. But the idyll is deceptive. For some time now,\n",
      "a pack of werewolves has been up to no good, and every night a\n",
      "villager falls victim to their insatiable hunger. In an effort to eradicate the evil, the villagers\n",
      "resort to self-help, and the once tranquil place becomes the stage for a bitterly fought\n",
      "battle for naked existence.\n",
      "\n",
      "\n",
      "\n",
      "\n",
      "## Rules::Game Objective\n",
      "- For the villagers: Eradicate the werewolves and restore peace.\n",
      "- For the werewolves: Devour or somehow eliminate all the villagers. (Some special roles may have different game objectives)\n",
      "\n",
      "\n",
      "\u001b[0m\u001b[32;1m\u001b[1;3mOkay, hier ist eine kurze Zusammenfassung der wichtigsten Regeln für eine Runde Werwölfe:\n",
      "\n",
      "<final_answer>\n",
      "\n",
      "Spielziel: \n",
      "- Für die Dorfbewohner: Die Werwölfe ausschalten und den Frieden wiederherstellen.\n",
      "- Für die Werwölfe: Alle Dorfbewohner fressen oder irgendwie eliminieren. \n",
      "\n",
      "Spielablauf:\n",
      "- Das Spiel wechselt zwischen Tag- und Nachtphasen. \n",
      "- Nachts erwachen die Werwölfe und wählen ein Opfer aus den Dorfbewohnern, das getötet wird.\n",
      "- Tagsüber diskutieren die übrigen Spieler, wer die Werwölfe sein könnten. Sie stimmen dann ab, wen sie lynchen (aus dem Spiel werfen) wollen, weil sie ihn für einen Werwolf halten.\n",
      "- Das geht so lange, bis entweder alle Werwölfe oder alle Dorfbewohner ausgeschaltet sind.\n",
      "\n",
      "Es gibt noch viele Sonderrollen mit besonderen Fähigkeiten, die das Spiel interessanter machen. Aber das sind die Grundregeln in Kürze. Viel Spaß beim Spielen!\n",
      "\n",
      "\u001b[0m\n",
      "\n",
      "\u001b[1m> Finished chain.\u001b[0m\n",
      "\n",
      "\n",
      "Spielziel: \n",
      "- Für die Dorfbewohner: Die Werwölfe ausschalten und den Frieden wiederherstellen.\n",
      "- Für die Werwölfe: Alle Dorfbewohner fressen oder irgendwie eliminieren. \n",
      "\n",
      "Spielablauf:\n",
      "- Das Spiel wechselt zwischen Tag- und Nachtphasen. \n",
      "- Nachts erwachen die Werwölfe und wählen ein Opfer aus den Dorfbewohnern, das getötet wird.\n",
      "- Tagsüber diskutieren die übrigen Spieler, wer die Werwölfe sein könnten. Sie stimmen dann ab, wen sie lynchen (aus dem Spiel werfen) wollen, weil sie ihn für einen Werwolf halten.\n",
      "- Das geht so lange, bis entweder alle Werwölfe oder alle Dorfbewohner ausgeschaltet sind.\n",
      "\n",
      "Es gibt noch viele Sonderrollen mit besonderen Fähigkeiten, die das Spiel interessanter machen. Aber das sind die Grundregeln in Kürze. Viel Spaß beim Spielen!\n",
      "\n",
      "\n"
     ]
    }
   ],
   "source": [
    "print(chat(\"Lass uns eine Runde Werwolf spielen!\"))"
   ]
  },
  {
   "cell_type": "code",
   "execution_count": 19,
   "metadata": {},
   "outputs": [
    {
     "name": "stdout",
     "output_type": "stream",
     "text": [
      "\n",
      "\n",
      "\u001b[1m> Entering new AgentExecutor chain...\u001b[0m\n",
      "\u001b[32;1m\u001b[1;3mOkay, dann lass uns loslegen! Ich werde die Rollen für die anderen 7 Spieler geheim auswählen und zuweisen. Du bist die Hexe.\n",
      "\n",
      "<tool>knowledge_search</tool>\n",
      "<tool_input>Welche Rollen gibt es typischerweise in einem 8-Personen Werwolf Spiel neben der Hexe?\u001b[0m\u001b[36;1m\u001b[1;3m## Rules::The Roles\n",
      "- First things first: All players who are not werewolves are considered good citizens.\n",
      "- However, the citizens can also take on special roles:\n",
      "  - The Seer: Every night, she may inquire about the identity of a fellow player.\n",
      "  - The Girl: She may blink while the wolves are at work at night.\n",
      "  - The Witch: She has two potions at her disposal, a healing potion and a poison potion. With the poison potion, she can poison a fellow player once in the game, and with the healing potion, she can save someone from the werewolves (including herself).\n",
      "  - The Hunter: Should he be killed, he can fire a final shot and drag a fellow player to their doom.\n",
      "  - Amor: At the beginning of the game, he determines two players who immediately fall in deep love with each other (this can also be himself). If one of the two lovers dies during the course of the game, the other also dies of grief.\n",
      "    - Attention: If one of the two lovers is a werewolf and the other a villager, they have a new common goal: If they survive as the only ones, they win alone\n",
      "\n",
      "\n",
      "\n",
      "## 0. Preparation\n",
      "\n",
      "#### Precondition\n",
      "The real player(s) are present and want to start a new game.\n",
      "\n",
      "#### Action\n",
      "The game master asks how many real and simulated players are present. The game master then assigns roles to the players, but does not tell anybody which roles the simulated players have (The game masters writes into her context which roles the simulated players have). Instead the game master tells the players to close their eyes. \n",
      "Then she calls out for singular players to open their eyes. She then tells the player which role they have and what they can do. The game master then tells the player to close their eyes again. This process is repeated until all real players know their role.\n",
      "The game master calls out \"So the first night begins. Everybody close your eyes.\"\n",
      "\n",
      "##### Suggestion for the number of roles depending on the number of players:\n",
      "- With 6 players: 2 werewolves, 1 witch, 1 hunter, 1 Amor, 1 villager\n",
      "- With 7 players: 2 werewolves, 1 seer, 1 witch, 1 hunter, 1 Amor, 1 villager\n",
      "- With 8 players: 2 werewolves, 1 seer, 1 witch, 2 hunters, 1 Amor, 1 villager\n",
      "- With 9 players: 3 werewolves, 1 seer, 1 witch, 2 hunters, 1 Amor, 1 villager\n",
      "- With 10 players: 3 werewolves, 1 seer, 1 witch, 2 hunters, 1 Amor, 2 villagers\n",
      "- With 11 players: 4 werewolves, 1 seer, 1 witch, 2 hunters, 1 Amor, 2 villagers\n",
      "\n",
      "\n",
      "\n",
      "\u001b[0m\u001b[32;1m\u001b[1;3mOkay, hier ist mein Vorschlag für die Rollenverteilung bei 8 Spielern:\n",
      "\n",
      "<tool>knowledge_search</tool><tool_input>Welche Rollen sollte man bei 8 Spielern verteilen?\u001b[0m\u001b[36;1m\u001b[1;3m## 0. Preparation\n",
      "\n",
      "#### Precondition\n",
      "The real player(s) are present and want to start a new game.\n",
      "\n",
      "#### Action\n",
      "The game master asks how many real and simulated players are present. The game master then assigns roles to the players, but does not tell anybody which roles the simulated players have (The game masters writes into her context which roles the simulated players have). Instead the game master tells the players to close their eyes. \n",
      "Then she calls out for singular players to open their eyes. She then tells the player which role they have and what they can do. The game master then tells the player to close their eyes again. This process is repeated until all real players know their role.\n",
      "The game master calls out \"So the first night begins. Everybody close your eyes.\"\n",
      "\n",
      "##### Suggestion for the number of roles depending on the number of players:\n",
      "- With 6 players: 2 werewolves, 1 witch, 1 hunter, 1 Amor, 1 villager\n",
      "- With 7 players: 2 werewolves, 1 seer, 1 witch, 1 hunter, 1 Amor, 1 villager\n",
      "- With 8 players: 2 werewolves, 1 seer, 1 witch, 2 hunters, 1 Amor, 1 villager\n",
      "- With 9 players: 3 werewolves, 1 seer, 1 witch, 2 hunters, 1 Amor, 1 villager\n",
      "- With 10 players: 3 werewolves, 1 seer, 1 witch, 2 hunters, 1 Amor, 2 villagers\n",
      "- With 11 players: 4 werewolves, 1 seer, 1 witch, 2 hunters, 1 Amor, 2 villagers\n",
      "\n",
      "\n",
      "\n",
      "\n",
      "\n",
      "## Rules::The Roles\n",
      "- First things first: All players who are not werewolves are considered good citizens.\n",
      "- However, the citizens can also take on special roles:\n",
      "  - The Seer: Every night, she may inquire about the identity of a fellow player.\n",
      "  - The Girl: She may blink while the wolves are at work at night.\n",
      "  - The Witch: She has two potions at her disposal, a healing potion and a poison potion. With the poison potion, she can poison a fellow player once in the game, and with the healing potion, she can save someone from the werewolves (including herself).\n",
      "  - The Hunter: Should he be killed, he can fire a final shot and drag a fellow player to their doom.\n",
      "  - Amor: At the beginning of the game, he determines two players who immediately fall in deep love with each other (this can also be himself). If one of the two lovers dies during the course of the game, the other also dies of grief.\n",
      "    - Attention: If one of the two lovers is a werewolf and the other a villager, they have a new common goal: If they survive as the only ones, they win alone\n",
      "\n",
      "\u001b[0m\u001b[32;1m\u001b[1;3mOkay, hier ist mein Vorschlag für die Rollenverteilung bei 8 Spielern:\n",
      "\n",
      "<final_answer>\n",
      "- 2 Werwölfe \n",
      "- 1 Seherin\n",
      "- 1 Hexe (du)\n",
      "- 2 Jäger \n",
      "- 1 Amor\n",
      "- 1 einfacher Dorfbewohner\n",
      "\n",
      "Ich werde jetzt jedem Spieler heimlich eine Rolle zuweisen. Alle schließen bitte die Augen.\n",
      "\n",
      "Hexe, mach bitte kurz die Augen auf. Du bist die Hexe und hast zwei Tränke - einen Heiltrank, mit dem du einmal im Spiel jemanden vor den Werwölfen retten kannst, auch dich selbst. Und einen Gifttrank, mit dem du einmal im Spiel jemanden vergiften und töten kannst. Mach bitte die Augen wieder zu.\n",
      "\n",
      "Amor, mach bitte kurz die Augen auf. Du bist Amor und bestimmst gleich zwei Spieler, die sich ineinander verlieben. Wenn einer der Verliebten stirbt, stirbt der andere vor Kummer mit. Zeige unauffällig auf die zwei Spieler deiner Wahl. Okay, mach die Augen wieder zu.\n",
      "\n",
      "So beginnt nun die erste Nacht. Alle haben die Augen geschlossen.\n",
      "\u001b[0m\n",
      "\n",
      "\u001b[1m> Finished chain.\u001b[0m\n",
      "\n",
      "- 2 Werwölfe \n",
      "- 1 Seherin\n",
      "- 1 Hexe (du)\n",
      "- 2 Jäger \n",
      "- 1 Amor\n",
      "- 1 einfacher Dorfbewohner\n",
      "\n",
      "Ich werde jetzt jedem Spieler heimlich eine Rolle zuweisen. Alle schließen bitte die Augen.\n",
      "\n",
      "Hexe, mach bitte kurz die Augen auf. Du bist die Hexe und hast zwei Tränke - einen Heiltrank, mit dem du einmal im Spiel jemanden vor den Werwölfen retten kannst, auch dich selbst. Und einen Gifttrank, mit dem du einmal im Spiel jemanden vergiften und töten kannst. Mach bitte die Augen wieder zu.\n",
      "\n",
      "Amor, mach bitte kurz die Augen auf. Du bist Amor und bestimmst gleich zwei Spieler, die sich ineinander verlieben. Wenn einer der Verliebten stirbt, stirbt der andere vor Kummer mit. Zeige unauffällig auf die zwei Spieler deiner Wahl. Okay, mach die Augen wieder zu.\n",
      "\n",
      "So beginnt nun die erste Nacht. Alle haben die Augen geschlossen.\n",
      "\n"
     ]
    }
   ],
   "source": [
    "print(chat(\"Okay, lass uns zu acht spielen. Du bist Spielleiter. Ich bin Hexe. Die anderen 7 Spieler musst Du simulieren, sag mir bloss nicht welche Rollen Du ihnen zuweist! Das musst Du geheim halten.\"))"
   ]
  },
  {
   "cell_type": "code",
   "execution_count": 20,
   "metadata": {},
   "outputs": [
    {
     "name": "stdout",
     "output_type": "stream",
     "text": [
      "\n",
      "\n",
      "\u001b[1m> Entering new AgentExecutor chain...\u001b[0m\n",
      "\u001b[32;1m\u001b[1;3mOkay, die erste Nacht beginnt.\n",
      "\n",
      "Werwölfe, wacht auf und einigt euch, wen ihr fressen wollt. Zeigt unauffällig auf euer Opfer.\n",
      "\n",
      "<tool>knowledge_search</tool>\n",
      "<tool_input>Was macht die Hexe, nachdem die Werwölfe ihr Opfer gewählt haben?\u001b[0m\u001b[36;1m\u001b[1;3m## 2. Further Nights\n",
      "\n",
      "#### Precondition\n",
      "Any further after the first round begins. The game master says \"The night begins. Everybody close your eyes.\"\n",
      "\n",
      "#### Action\n",
      "- The game master asks the werewolves to open their eyes. The werewolves then decide on a person to kill. The game master tells the werewolves to close their eyes again.\n",
      "- The game master asks the witch to open their eyes. The game master then shows the witch the person that the werewolves have chosen to kill. The witch then decides whether to save that person or not. The witch also decides whether to kill another person. The game master tells the witch to close their eyes again.\n",
      "- The game master then says \"So the night is over. Everybody open your eyes.\"\n",
      "\n",
      "\n",
      "\n",
      "\n",
      "## 1. First Night\n",
      "\n",
      "#### Precondition\n",
      "It is the first round of a new game. The game master says \"So the first night begins. Everybody close your eyes.\"\n",
      "\n",
      "#### Action\n",
      "- The game master asks the werewolves to open their eyes. The werewolves then decide on a person to kill. The werevoves also decide whom amongst them shall be shown to the seer. The game master tells the werewolves to close their eyes again.\n",
      "- The game master asks the seer to open their eyes. The game master then shows the seer the werewolf that the werewolves have chosen to show. The game master tells the seer to close their eyes again.\n",
      "- The game master asks the witch to open their eyes. The game master then shows the witch the person that the werewolves have chosen to kill. The witch then decides whether to save that person or not. The witch also decides whether to kill another person. The game master tells the witch to close their eyes again.\n",
      "- The game master asks Amor to open their eyes. Amor then decides on two people to fall in love. The game master tells Amor to close their eyes again.\n",
      "- The game master then walks around the group and taps the lovers on the shoulder. The lovers then open their eyes and show each other their cards. The game master tells the lovers to close their eyes again.\n",
      "- The game master then says \"So the night is over. Everybody open your eyes.\"\n",
      "\n",
      "\n",
      "\u001b[0m\u001b[32;1m\u001b[1;3m<tool>knowledge_search</tool><tool_input>Was macht die Hexe, nachdem die Werwölfe ihr Opfer gewählt haben?\u001b[0m\u001b[36;1m\u001b[1;3m## 2. Further Nights\n",
      "\n",
      "#### Precondition\n",
      "Any further after the first round begins. The game master says \"The night begins. Everybody close your eyes.\"\n",
      "\n",
      "#### Action\n",
      "- The game master asks the werewolves to open their eyes. The werewolves then decide on a person to kill. The game master tells the werewolves to close their eyes again.\n",
      "- The game master asks the witch to open their eyes. The game master then shows the witch the person that the werewolves have chosen to kill. The witch then decides whether to save that person or not. The witch also decides whether to kill another person. The game master tells the witch to close their eyes again.\n",
      "- The game master then says \"So the night is over. Everybody open your eyes.\"\n",
      "\n",
      "\n",
      "\n",
      "\n",
      "## 1. First Night\n",
      "\n",
      "#### Precondition\n",
      "It is the first round of a new game. The game master says \"So the first night begins. Everybody close your eyes.\"\n",
      "\n",
      "#### Action\n",
      "- The game master asks the werewolves to open their eyes. The werewolves then decide on a person to kill. The werevoves also decide whom amongst them shall be shown to the seer. The game master tells the werewolves to close their eyes again.\n",
      "- The game master asks the seer to open their eyes. The game master then shows the seer the werewolf that the werewolves have chosen to show. The game master tells the seer to close their eyes again.\n",
      "- The game master asks the witch to open their eyes. The game master then shows the witch the person that the werewolves have chosen to kill. The witch then decides whether to save that person or not. The witch also decides whether to kill another person. The game master tells the witch to close their eyes again.\n",
      "- The game master asks Amor to open their eyes. Amor then decides on two people to fall in love. The game master tells Amor to close their eyes again.\n",
      "- The game master then walks around the group and taps the lovers on the shoulder. The lovers then open their eyes and show each other their cards. The game master tells the lovers to close their eyes again.\n",
      "- The game master then says \"So the night is over. Everybody open your eyes.\"\n",
      "\n",
      "\n",
      "\u001b[0m\u001b[32;1m\u001b[1;3m<final_answer>\n",
      "Nachdem die Werwölfe ihr Opfer gewählt haben, weckt der Spielleiter die Hexe auf und zeigt ihr, wen die Werwölfe getötet haben. Die Hexe entscheidet dann:\n",
      "\n",
      "1. Ob sie ihren Heiltrank einsetzen und die Person vor dem Tod retten will. Das kann sie nur einmal im Spiel tun.\n",
      "\n",
      "2. Ob sie zusätzlich ihren Gifttrank einsetzen und eine andere Person töten will. Auch das kann sie nur einmal im Spiel tun.\n",
      "\n",
      "Danach sagt der Spielleiter der Hexe, dass sie die Augen wieder schließen soll.\n",
      "\u001b[0m\n",
      "\n",
      "\u001b[1m> Finished chain.\u001b[0m\n",
      "\n",
      "Nachdem die Werwölfe ihr Opfer gewählt haben, weckt der Spielleiter die Hexe auf und zeigt ihr, wen die Werwölfe getötet haben. Die Hexe entscheidet dann:\n",
      "\n",
      "1. Ob sie ihren Heiltrank einsetzen und die Person vor dem Tod retten will. Das kann sie nur einmal im Spiel tun.\n",
      "\n",
      "2. Ob sie zusätzlich ihren Gifttrank einsetzen und eine andere Person töten will. Auch das kann sie nur einmal im Spiel tun.\n",
      "\n",
      "Danach sagt der Spielleiter der Hexe, dass sie die Augen wieder schließen soll.\n",
      "\n"
     ]
    }
   ],
   "source": [
    "print(chat(\"Ich habe eine Augen geschlossen!\"))"
   ]
  },
  {
   "cell_type": "markdown",
   "metadata": {},
   "source": [
    "- Agentic RAG Colab : https://colab.research.google.com/drive/1_8r0Tj-f2UyRZ4SBuaP-RfhdUeXXxu0Z?usp=sharing#scrollTo=b8CjRlbVmRpW\n",
    "- low-code builder: https://flowiseai.com/\n",
    "- stuff: https://github.com/AI-Maker-Space?q=&type=all&language=&sort=stargazers \n",
    "- video: https://www.youtube.com/watch?v=SEA3eJrDc-k"
   ]
  }
 ],
 "metadata": {
  "kernelspec": {
   "display_name": ".venv",
   "language": "python",
   "name": "python3"
  },
  "language_info": {
   "codemirror_mode": {
    "name": "ipython",
    "version": 3
   },
   "file_extension": ".py",
   "mimetype": "text/x-python",
   "name": "python",
   "nbconvert_exporter": "python",
   "pygments_lexer": "ipython3",
   "version": "3.10.12"
  }
 },
 "nbformat": 4,
 "nbformat_minor": 2
}
